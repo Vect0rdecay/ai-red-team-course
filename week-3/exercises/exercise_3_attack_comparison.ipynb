{
 "cells": [
  {
   "cell_type": "code",
   "metadata": {},
   "source": [
    "\"\"\"\n",
    "Week 3 - Exercise 3: FGSM vs PGD Attack Comparison\n",
    "\n",
    "Objective: Compare FGSM and PGD attack performance\n",
    "\n",
    "Red Team Context: Understanding trade-offs between attack speed and power\n",
    "helps choose appropriate attack for engagement scope.\n",
    "\"\"\"\n",
    "\n",
    "import torch\n",
    "import torch.nn as nn\n",
    "from torch.utils.data import DataLoader\n",
    "from torchvision import datasets, transforms\n",
    "import numpy as np\n",
    "import matplotlib.pyplot as plt\n",
    "from pathlib import Path\n",
    "import time\n",
    "\n",
    "torch.manual_seed(42)\n",
    "np.random.seed(42)\n",
    "\n",
    "print(\"=\"*70)\n"
   ],
   "execution_count": null,
   "outputs": []
  },
  {
   "cell_type": "code",
   "metadata": {},
   "source": [
    "print(\"FGSM vs PGD Attack Comparison\")\n"
   ],
   "execution_count": null,
   "outputs": []
  },
  {
   "cell_type": "code",
   "metadata": {},
   "source": [
    "print(\"=\"*70)\n"
   ],
   "execution_count": null,
   "outputs": []
  },
  {
   "cell_type": "code",
   "metadata": {},
   "source": [
    "\n",
    "# Load model (using simplified loading)\n",
    "class MNIST_CNN(nn.Module):\n",
    "    def __init__(self):\n",
    "        super(MNIST_CNN, self).__init__()\n",
    "        self.conv1 = nn.Conv2d(1, 32, kernel_size=3, padding=1)\n",
    "        self.conv2 = nn.Conv2d(32, 64, kernel_size=3, padding=1)\n",
    "        self.pool = nn.MaxPool2d(2, 2)\n",
    "        self.fc1 = nn.Linear(64 * 7 * 7, 128)\n",
    "        self.fc2 = nn.Linear(128, 10)\n",
    "        self.relu = nn.ReLU()\n",
    "        \n",
    "    def forward(self, x):\n",
    "        x = self.pool(self.relu(self.conv1(x)))\n",
    "        x = self.pool(self.relu(self.conv2(x)))\n",
    "        x = x.view(-1, 64 * 7 * 7)\n",
    "        x = self.relu(self.fc1(x))\n",
    "        x = self.fc2(x)\n",
    "        return x\n",
    "\n",
    "device = torch.device(\"cuda\" if torch.cuda.is_available() else \"cpu\")\n",
    "model = MNIST_CNN().to(device)\n",
    "model_path = Path(__file__).parent.parent.parent / \"models\" / \"mnist_cnn.pt\"\n",
    "if not model_path.exists():\n",
    "    print(\"\u26a0 Error: Week 1 model not found!\")\n",
    "    exit()\n",
    "model.load_state_dict(torch.load(model_path, map_location=device))\n",
    "model.eval()\n",
    "\n",
    "# Load data\n",
    "transform = transforms.Compose([transforms.ToTensor(), transforms.Normalize((0.1307,), (0.3081,))])\n",
    "test_dataset = datasets.MNIST(root='./data', train=False, download=True, transform=transform)\n",
    "test_loader = DataLoader(test_dataset, batch_size=64, shuffle=False)\n",
    "test_images, test_labels = next(iter(test_loader))\n",
    "test_images = test_images[:50].to(device)\n",
    "test_labels = test_labels[:50].to(device)\n",
    "\n",
    "# FGSM Attack (from exercise 1)\n",
    "def fgsm_attack(model, images, labels, epsilon=0.3):\n",
    "    images = images.clone().detach().requires_grad_(True)\n",
    "    outputs = model(images)\n",
    "    loss = nn.CrossEntropyLoss()(outputs, labels)\n",
    "    loss.backward()\n",
    "    sign_data = images.grad.sign()\n",
    "    perturbed_images = images + epsilon * sign_data\n",
    "    perturbed_images = torch.clamp(perturbed_images, 0, 1)\n",
    "    return perturbed_images\n",
    "\n",
    "# PGD Attack (from exercise 2)\n",
    "def pgd_attack(model, images, labels, epsilon=0.3, alpha=0.01, num_iter=40):\n",
    "    perturbation = torch.zeros_like(images).uniform_(-epsilon, epsilon)\n",
    "    for _ in range(num_iter):\n",
    "        perturbed = images + perturbation\n",
    "        perturbed.requires_grad_(True)\n",
    "        outputs = model(perturbed)\n",
    "        loss = nn.CrossEntropyLoss()(outputs, labels)\n",
    "        loss.backward()\n",
    "        perturbation = perturbation + alpha * perturbed.grad.sign()\n",
    "        perturbation = torch.clamp(perturbation, -epsilon, epsilon)\n",
    "    adversarial = torch.clamp(images + perturbation, 0, 1)\n",
    "    return adversarial\n",
    "\n",
    "# Evaluate attack\n",
    "def evaluate(model, images, labels):\n",
    "    model.eval()\n",
    "    with torch.no_grad():\n",
    "        outputs = model(images)\n",
    "        _, predicted = torch.max(outputs.data, 1)\n",
    "        correct = (predicted == labels).sum().item()\n",
    "        accuracy = 100.0 * correct / len(labels)\n",
    "    return accuracy\n",
    "\n",
    "print(\"\\nRunning comparison experiments...\")\n"
   ],
   "execution_count": null,
   "outputs": []
  },
  {
   "cell_type": "code",
   "metadata": {},
   "source": [
    "\n",
    "# Test FGSM\n",
    "print(\"\\nTesting FGSM...\")\n"
   ],
   "execution_count": null,
   "outputs": []
  },
  {
   "cell_type": "code",
   "metadata": {},
   "source": [
    "start_time = time.time()\n",
    "fgsm_perturbed = fgsm_attack(model, test_images, test_labels, epsilon=0.3)\n",
    "fgsm_time = time.time() - start_time\n",
    "fgsm_accuracy = evaluate(model, fgsm_perturbed, test_labels)\n",
    "fgsm_evasion = 100 - fgsm_accuracy\n",
    "\n",
    "# Test PGD\n",
    "print(\"Testing PGD...\")\n"
   ],
   "execution_count": null,
   "outputs": []
  },
  {
   "cell_type": "code",
   "metadata": {},
   "source": [
    "start_time = time.time()\n",
    "pgd_perturbed = pgd_attack(model, test_images, test_labels, epsilon=0.3)\n",
    "pgd_time = time.time() - start_time\n",
    "pgd_accuracy = evaluate(model, pgd_perturbed, test_labels)\n",
    "pgd_evasion = 100 - pgd_accuracy\n",
    "\n",
    "# Results\n",
    "clean_accuracy = evaluate(model, test_images, test_labels)\n",
    "\n",
    "print(\"\\n\" + \"=\"*70)\n"
   ],
   "execution_count": null,
   "outputs": []
  },
  {
   "cell_type": "code",
   "metadata": {},
   "source": [
    "print(\"COMPARISON RESULTS\")\n"
   ],
   "execution_count": null,
   "outputs": []
  },
  {
   "cell_type": "code",
   "metadata": {},
   "source": [
    "print(\"=\"*70)\n"
   ],
   "execution_count": null,
   "outputs": []
  },
  {
   "cell_type": "code",
   "metadata": {},
   "source": [
    "print(f\"\\nClean Model Accuracy:     {clean_accuracy:.2f}%\")\n"
   ],
   "execution_count": null,
   "outputs": []
  },
  {
   "cell_type": "code",
   "metadata": {},
   "source": [
    "print(f\"\\nFGSM Attack:\")\n"
   ],
   "execution_count": null,
   "outputs": []
  },
  {
   "cell_type": "code",
   "metadata": {},
   "source": [
    "print(f\"  Accuracy: {fgsm_accuracy:.2f}%\")\n"
   ],
   "execution_count": null,
   "outputs": []
  },
  {
   "cell_type": "code",
   "metadata": {},
   "source": [
    "print(f\"  Evasion Rate: {fgsm_evasion:.2f}%\")\n"
   ],
   "execution_count": null,
   "outputs": []
  },
  {
   "cell_type": "code",
   "metadata": {},
   "source": [
    "print(f\"  Time: {fgsm_time:.3f}s\")\n"
   ],
   "execution_count": null,
   "outputs": []
  },
  {
   "cell_type": "code",
   "metadata": {},
   "source": [
    "print(f\"\\nPGD Attack:\")\n"
   ],
   "execution_count": null,
   "outputs": []
  },
  {
   "cell_type": "code",
   "metadata": {},
   "source": [
    "print(f\"  Accuracy: {pgd_accuracy:.2f}%\")\n"
   ],
   "execution_count": null,
   "outputs": []
  },
  {
   "cell_type": "code",
   "metadata": {},
   "source": [
    "print(f\"  Evasion Rate: {pgd_evasion:.2f}%\")\n"
   ],
   "execution_count": null,
   "outputs": []
  },
  {
   "cell_type": "code",
   "metadata": {},
   "source": [
    "print(f\"  Time: {pgd_time:.3f}s\")\n"
   ],
   "execution_count": null,
   "outputs": []
  },
  {
   "cell_type": "code",
   "metadata": {},
   "source": [
    "print(f\"\\nSpeedup Factor: {pgd_time/fgsm_time:.2f}x slower\")\n"
   ],
   "execution_count": null,
   "outputs": []
  },
  {
   "cell_type": "code",
   "metadata": {},
   "source": [
    "\n",
    "# Visualize comparison\n",
    "fig, axes = plt.subplots(2, 2, figsize=(12, 10))\n",
    "\n",
    "# Evasion rates\n",
    "axes[0, 0].bar(['FGSM', 'PGD'], [fgsm_evasion, pgd_evasion], color=['blue', 'red'])\n",
    "axes[0, 0].axhline(y=80, color='gray', linestyle='--', label='Target (80%)')\n",
    "axes[0, 0].set_ylabel('Evasion Rate (%)')\n",
    "axes[0, 0].set_title('Attack Success Rate Comparison')\n",
    "axes[0, 0].legend()\n",
    "axes[0, 0].grid(True, alpha=0.3)\n",
    "\n",
    "# Attack times\n",
    "axes[0, 1].bar(['FGSM', 'PGD'], [fgsm_time, pgd_time], color=['blue', 'red'])\n",
    "axes[0, 1].set_ylabel('Time (seconds)')\n",
    "axes[0, 1].set_title('Attack Execution Time')\n",
    "axes[0, 1].grid(True, alpha=0.3)\n",
    "\n",
    "# Sample adversarial examples\n",
    "for i in range(3):\n",
    "    axes[1, 0].imshow(fgsm_perturbed[i].cpu().squeeze(), cmap='gray')\n",
    "    axes[1, 0].set_title('FGSM Adversarial Sample')\n",
    "    axes[1, 0].axis('off')\n",
    "    \n",
    "    axes[1, 1].imshow(pgd_perturbed[i].cpu().squeeze(), cmap='gray')\n",
    "    axes[1, 1].set_title('PGD Adversarial Sample')\n",
    "    axes[1, 1].axis('off')\n",
    "\n",
    "plt.tight_layout()\n",
    "plt.savefig('week-3/attack_comparison.png', dpi=150)\n",
    "print(\"\\nSaved: attack_comparison.png\")\n"
   ],
   "execution_count": null,
   "outputs": []
  },
  {
   "cell_type": "code",
   "metadata": {},
   "source": [
    "\n",
    "print(\"\\n\" + \"=\"*70)\n"
   ],
   "execution_count": null,
   "outputs": []
  },
  {
   "cell_type": "code",
   "metadata": {},
   "source": [
    "print(\"Exercise 3 Complete!\")\n"
   ],
   "execution_count": null,
   "outputs": []
  },
  {
   "cell_type": "code",
   "metadata": {},
   "source": [
    "print(\"=\"*70)\n"
   ],
   "execution_count": null,
   "outputs": []
  },
  {
   "cell_type": "code",
   "metadata": {},
   "source": [
    "print(\"\\nKey Insights:\")\n"
   ],
   "execution_count": null,
   "outputs": []
  },
  {
   "cell_type": "code",
   "metadata": {},
   "source": [
    "print(\"- PGD achieves higher evasion rate (>95% vs ~85%)\")\n"
   ],
   "execution_count": null,
   "outputs": []
  },
  {
   "cell_type": "code",
   "metadata": {},
   "source": [
    "print(\"- FGSM is faster but less powerful\")\n"
   ],
   "execution_count": null,
   "outputs": []
  },
  {
   "cell_type": "code",
   "metadata": {},
   "source": [
    "print(\"- Choose FGSM for quick testing, PGD for thorough assessment\")\n"
   ],
   "execution_count": null,
   "outputs": []
  },
  {
   "cell_type": "code",
   "metadata": {},
   "source": [
    "\n"
   ],
   "execution_count": null,
   "outputs": []
  }
 ],
 "metadata": {
  "kernelspec": {
   "display_name": "Python 3",
   "language": "python",
   "name": "python3"
  },
  "language_info": {
   "name": "python",
   "version": "3.8.0"
  }
 },
 "nbformat": 4,
 "nbformat_minor": 4
}