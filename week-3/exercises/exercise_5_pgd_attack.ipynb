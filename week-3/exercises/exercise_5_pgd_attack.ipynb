{
 "cells": [
  {
   "cell_type": "code",
   "metadata": {},
   "source": [
    "\"\"\"\n",
    "Week 3 - Exercise 2: PGD (Projected Gradient Descent) Attack\n",
    "\n",
    "Objective: Implement PGD from scratch for stronger evasion attacks\n",
    "\n",
    "Red Team Context: PGD is the gold standard for white-box evasion attacks.\n",
    "More powerful than FGSM, achieving >95% evasion rates.\n",
    "\n",
    "INSTRUCTIONS:\n",
    "This script is ~85% complete. Fill in the TODO sections.\n",
    "\n",
    "Expected Evasion Rate: >95% with \u03b5=0.3\n",
    "\"\"\"\n",
    "\n",
    "import torch\n",
    "import torch.nn as nn\n",
    "from torch.utils.data import DataLoader\n",
    "from torchvision import datasets, transforms\n",
    "import numpy as np\n",
    "import matplotlib.pyplot as plt\n",
    "from pathlib import Path\n",
    "\n",
    "torch.manual_seed(42)\n",
    "np.random.seed(42)\n",
    "\n",
    "print(\"=\"*70)\n"
   ],
   "execution_count": null,
   "outputs": []
  },
  {
   "cell_type": "code",
   "metadata": {},
   "source": [
    "print(\"PGD Attack Implementation\")\n"
   ],
   "execution_count": null,
   "outputs": []
  },
  {
   "cell_type": "code",
   "metadata": {},
   "source": [
    "print(\"=\"*70)\n"
   ],
   "execution_count": null,
   "outputs": []
  },
  {
   "cell_type": "code",
   "metadata": {},
   "source": [
    "\n",
    "# Load model\n",
    "class MNIST_CNN(nn.Module):\n",
    "    def __init__(self):\n",
    "        super(MNIST_CNN, self).__init__()\n",
    "        self.conv1 = nn.Conv2d(1, 32, kernel_size=3, padding=1)\n",
    "        self.conv2 = nn.Conv2d(32, 64, kernel_size=3, padding=1)\n",
    "        self.pool = nn.MaxPool2d(2, 2)\n",
    "        self.fc1 = nn.Linear(64 * 7 * 7, 128)\n",
    "        self.fc2 = nn.Linear(128, 10)\n",
    "        self.relu = nn.ReLU()\n",
    "        \n",
    "    def forward(self, x):\n",
    "        x = self.pool(self.relu(self.conv1(x)))\n",
    "        x = self.pool(self.relu(self.conv2(x)))\n",
    "        x = x.view(-1, 64 * 7 * 7)\n",
    "        x = self.relu(self.fc1(x))\n",
    "        x = self.fc2(x)\n",
    "        return x\n",
    "\n",
    "device = torch.device(\"cuda\" if torch.cuda.is_available() else \"cpu\")\n",
    "model = MNIST_CNN().to(device)\n",
    "\n",
    "model_path = Path(__file__).parent.parent.parent / \"models\" / \"mnist_cnn.pt\"\n",
    "if not model_path.exists():\n",
    "    print(\"\u26a0 Error: Week 1 model not found!\")\n",
    "    exit()\n",
    "\n",
    "model.load_state_dict(torch.load(model_path, map_location=device))\n",
    "model.eval()\n",
    "\n",
    "# Load data\n",
    "transform = transforms.Compose([\n",
    "    transforms.ToTensor(),\n",
    "    transforms.Normalize((0.1307,), (0.3081,))\n",
    "])\n",
    "\n",
    "test_dataset = datasets.MNIST(root='./data', train=False, download=True, transform=transform)\n",
    "test_loader = DataLoader(test_dataset, batch_size=64, shuffle=False)\n",
    "test_images, test_labels = next(iter(test_loader))\n",
    "test_images = test_images[:10].to(device)\n",
    "test_labels = test_labels[:10].to(device)\n",
    "\n",
    "print(f\"Loaded {len(test_images)} test samples\")\n"
   ],
   "execution_count": null,
   "outputs": []
  },
  {
   "cell_type": "code",
   "metadata": {},
   "source": [
    "\n",
    "# PGD Attack\n",
    "def pgd_attack(model, images, labels, epsilon=0.3, alpha=0.01, num_iter=40):\n",
    "    \"\"\"\n",
    "    Perform PGD attack - iterative FGSM with projection.\n",
    "    \n",
    "    Args:\n",
    "        epsilon: Maximum perturbation budget\n",
    "        alpha: Step size per iteration\n",
    "        num_iter: Number of iterations\n",
    "    \n",
    "    Returns:\n",
    "        perturbed_images: Adversarial samples\n",
    "    \"\"\"\n",
    "    # Initialize perturbation (random start for better results)\n",
    "    # TODO: Add random initialization\n",
    "    # HINT: perturbation = torch.zeros_like(images).uniform_(-epsilon, epsilon)\n",
    "    perturbation = None\n",
    "    \n",
    "    for i in range(num_iter):\n",
    "        # Set requires_grad\n",
    "        perturbed = images + perturbation\n",
    "        perturbed.requires_grad_(True)\n",
    "        \n",
    "        # Forward pass\n",
    "        outputs = model(perturbed)\n",
    "        criterion = nn.CrossEntropyLoss()\n",
    "        \n",
    "        # TODO: Calculate loss and get gradients\n",
    "        # HINT: loss = criterion(outputs, labels)\n",
    "        #       loss.backward()\n",
    "        loss = None\n",
    "        loss.backward()\n",
    "        \n",
    "        # TODO: Update perturbation with gradient ascent\n",
    "        # HINT: perturbation = perturbation + alpha * perturbed.grad.sign()\n",
    "        perturbation = None\n",
    "        \n",
    "        # TODO: Project perturbation to epsilon-ball\n",
    "        # HINT: perturbation = torch.clamp(perturbation, -epsilon, epsilon)\n",
    "        perturbation = None\n",
    "    \n",
    "    # Create final adversarial samples\n",
    "    # TODO: Clip to valid range\n",
    "    # HINT: adversarial = torch.clamp(images + perturbation, 0, 1)\n",
    "    adversarial = None\n",
    "    \n",
    "    return adversarial\n",
    "\n",
    "print(\"\\nImplementing PGD attack...\")\n"
   ],
   "execution_count": null,
   "outputs": []
  },
  {
   "cell_type": "code",
   "metadata": {},
   "source": [
    "perturbed_images = pgd_attack(model, test_images, test_labels, epsilon=0.3)\n",
    "\n",
    "if perturbed_images is None:\n",
    "    print(\"\u26a0 TODO: Implement PGD attack function\")\n",
    "    exit()\n",
    "\n",
    "print(\"\u2713 Adversarial samples generated\")\n"
   ],
   "execution_count": null,
   "outputs": []
  },
  {
   "cell_type": "code",
   "metadata": {},
   "source": [
    "\n",
    "# Evaluate\n",
    "def evaluate_model(model, images, labels):\n",
    "    model.eval()\n",
    "    with torch.no_grad():\n",
    "        outputs = model(images)\n",
    "        _, predicted = torch.max(outputs.data, 1)\n",
    "        correct = (predicted == labels).sum().item()\n",
    "        accuracy = 100.0 * correct / len(labels)\n",
    "    return accuracy, predicted\n",
    "\n",
    "clean_accuracy, clean_predicted = evaluate_model(model, test_images, test_labels)\n",
    "adversarial_accuracy, adversarial_predicted = evaluate_model(model, perturbed_images, test_labels)\n",
    "evasion_rate = 100 - adversarial_accuracy\n",
    "\n",
    "print(f\"Clean accuracy: {clean_accuracy:.2f}%\")\n"
   ],
   "execution_count": null,
   "outputs": []
  },
  {
   "cell_type": "code",
   "metadata": {},
   "source": [
    "print(f\"Adversarial accuracy: {adversarial_accuracy:.2f}%\")\n"
   ],
   "execution_count": null,
   "outputs": []
  },
  {
   "cell_type": "code",
   "metadata": {},
   "source": [
    "print(f\"Attack success rate: {evasion_rate:.2f}%\")\n"
   ],
   "execution_count": null,
   "outputs": []
  },
  {
   "cell_type": "code",
   "metadata": {},
   "source": [
    "\n",
    "if evasion_rate > 95:\n",
    "    print(\"\u2713 SUCCESS: High evasion rate achieved!\")\n",
    "\n",
    "# Visualize\n",
    "fig, axes = plt.subplots(3, 5, figsize=(15, 9))\n",
    "\n",
    "for i in range(5):\n",
    "    axes[0, i].imshow(test_images[i].cpu().squeeze(), cmap='gray')\n",
    "    axes[0, i].set_title(f'Original\\nTrue: {test_labels[i].item()}\\nPred: {clean_predicted[i].item()}')\n",
    "    axes[0, i].axis('off')\n",
    "    \n",
    "    axes[1, i].imshow(perturbed_images[i].detach().cpu().squeeze(), cmap='gray')\n",
    "    axes[1, i].set_title(f'Adversarial\\nTrue: {test_labels[i].item()}\\nPred: {adversarial_predicted[i].item()}')\n",
    "    axes[1, i].axis('off')\n",
    "    \n",
    "    perturbation = (perturbed_images[i] - test_images[i]).detach().cpu().squeeze()\n",
    "    axes[2, i].imshow(perturbation, cmap='RdBu_r', vmin=-0.3, vmax=0.3)\n",
    "    axes[2, i].set_title('Perturbation')\n",
    "    axes[2, i].axis('off')\n",
    "\n",
    "plt.tight_layout()\n",
    "plt.savefig('week-3/pgd_attack_results.png', dpi=150)\n",
    "print(\"Saved: pgd_attack_results.png\")\n"
   ],
   "execution_count": null,
   "outputs": []
  },
  {
   "cell_type": "code",
   "metadata": {},
   "source": [
    "\n",
    "print(\"\\n\" + \"=\"*70)\n"
   ],
   "execution_count": null,
   "outputs": []
  },
  {
   "cell_type": "code",
   "metadata": {},
   "source": [
    "print(\"Exercise 2 Complete!\")\n"
   ],
   "execution_count": null,
   "outputs": []
  },
  {
   "cell_type": "code",
   "metadata": {},
   "source": [
    "print(\"=\"*70)\n"
   ],
   "execution_count": null,
   "outputs": []
  },
  {
   "cell_type": "code",
   "metadata": {},
   "source": [
    "print(f\"Achieved {evasion_rate:.2f}% evasion rate with PGD\")\n"
   ],
   "execution_count": null,
   "outputs": []
  },
  {
   "cell_type": "code",
   "metadata": {},
   "source": [
    "\n"
   ],
   "execution_count": null,
   "outputs": []
  }
 ],
 "metadata": {
  "kernelspec": {
   "display_name": "Python 3",
   "language": "python",
   "name": "python3"
  },
  "language_info": {
   "name": "python",
   "version": "3.8.0"
  }
 },
 "nbformat": 4,
 "nbformat_minor": 4
}